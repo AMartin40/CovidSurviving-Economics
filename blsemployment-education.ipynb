{
 "cells": [
  {
   "cell_type": "code",
   "execution_count": 1,
   "metadata": {},
   "outputs": [],
   "source": [
    "import requests\n",
    "import json\n",
    "import prettytable\n",
    "import pandas as pd"
   ]
  },
  {
   "cell_type": "code",
   "execution_count": 2,
   "metadata": {},
   "outputs": [],
   "source": [
    "def get_bls_data(series, start, end):\n",
    "    headers = {'Content-Type': 'application/json'}\n",
    "    data = json.dumps({\"seriesid\": series,\"startyear\":\"%d\" % (start), \"endyear\":\"%d\" % (end)})\n",
    "    p = requests.post('https://api.bls.gov/publicAPI/v1/timeseries/data/', data=data, headers=headers)\n",
    "    json_data = json.loads(p.text)\n",
    "    try:\n",
    "        df = pd.DataFrame()\n",
    "        for series in json_data['Results']['series']:\n",
    "            df_initial = pd.DataFrame(series)\n",
    "            series_col = df_initial['seriesID'][0]\n",
    "            for i in range(0, len(df_initial) - 1):\n",
    "                df_row = pd.DataFrame(df_initial['data'][i])\n",
    "                df_row['seriesID'] = series_col\n",
    "                if 'code' not in str(df_row['footnotes']): \n",
    "                    df_row['footnotes'] = ''\n",
    "                else:\n",
    "                    df_row['footnotes'] = str(df_row['footnotes']).split(\"'code': '\",1)[1][:1]\n",
    "                df = df.append(df_row, ignore_index=True)\n",
    "        return df\n",
    "    except:\n",
    "        json_data['status'] == 'REQUEST_NOT_PROCESSED'\n",
    "        print('BLS API has given the following Response:', json_data['status'])\n",
    "        print('Reason:', json_data['message'])\n",
    "\n"
   ]
  },
  {
   "cell_type": "code",
   "execution_count": 4,
   "metadata": {},
   "outputs": [],
   "source": [
    "\n",
    "start = 2019\n",
    "end = 2020\n",
    "series = [# (Unadj) Civilian Labor Force Level - Less than a High School Diploma, 25 yrs. & over\n",
    "          'LNU01027659', \n",
    "          # (Unadj) Unemployment Level - Less than a High School Diploma, 25 yrs. & over\n",
    "          'LNU03027659', \n",
    "          # (Unadj) Unemployment Rate - Less than a High School Diploma, 25 yrs. & over\n",
    "          'LNU04027659', \n",
    "          # (Unadj) Civilian Labor Force Level - High School Graduates, No College, 25 yrs. & over\n",
    "          'LNU01027660', \n",
    "          # (Unadj) Unemployment Level - High School Graduates, No College, 25 yrs. & over\n",
    "          'LNU03027660', \n",
    "          # (Unadj) Unemployment Rate - High School Graduates, No College, 25 yrs. & over\n",
    "          'LNU04027660', \n",
    "          # (Unadj) Civilian Labor Force Level - Some College or Associate Degree, 25 yrs. & over\n",
    "          'LNU01027689', \n",
    "          # (Unadj) Unemployment Level - Some College or Associate Degree, 25 yrs. & over\n",
    "          'LNU03027689', \n",
    "          # (Unadj) Unemployment Rate - Some College or Associate Degree, 25 yrs. & over\n",
    "          'LNU04027689', \n",
    "          # (Unadj) Civilian Labor Force Level - Bachelor's degree and higher, 25 yrs. & over\n",
    "          'LNU01027662', \n",
    "          # (Unadj) Unemployment Level - Bachelor's degree and higher, 25 yrs. & over\n",
    "          'LNU03027662', \n",
    "          # (Unadj) Unemployment Rate - Bachelor's degree and higher, 25 yrs. & over\n",
    "          'LNU04027662']\n",
    "\n",
    "df = get_bls_data(series=series, start=start, end=end)\n",
    "writer = pd.ExcelWriter('bls2-education.xlsx', engine='xlsxwriter', options={'strings_to_numbers': True})\n",
    "df.to_excel(writer, sheet_name='Sheet1', index=False)\n",
    "writer.save()"
   ]
  },
  {
   "cell_type": "code",
   "execution_count": null,
   "metadata": {},
   "outputs": [],
   "source": []
  }
 ],
 "metadata": {
  "kernelspec": {
   "display_name": "Python 3",
   "language": "python",
   "name": "python3"
  },
  "language_info": {
   "codemirror_mode": {
    "name": "ipython",
    "version": 3
   },
   "file_extension": ".py",
   "mimetype": "text/x-python",
   "name": "python",
   "nbconvert_exporter": "python",
   "pygments_lexer": "ipython3",
   "version": "3.6.10"
  }
 },
 "nbformat": 4,
 "nbformat_minor": 4
}
